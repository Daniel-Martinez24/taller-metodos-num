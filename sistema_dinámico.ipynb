{
 "cells": [
  {
   "cell_type": "code",
   "metadata": {
    "tags": [],
    "cell_id": "97507e27-c1c6-4003-94eb-3c988c1a8631",
    "deepnote_to_be_reexecuted": false,
    "source_hash": "e56a3ea1",
    "execution_start": 1657119692168,
    "execution_millis": 7258,
    "deepnote_cell_type": "code",
    "deepnote_cell_height": 398
   },
   "source": "import numpy as np\nimport scipy as sp\nimport matplotlib.pyplot as plt\nfrom matplotlib.patches import Circle\nfrom matplotlib.animation import FuncAnimation\n\n!pip install imageio\nimport imageio",
   "execution_count": 1,
   "outputs": [
    {
     "name": "stdout",
     "text": "Collecting imageio\n  Downloading imageio-2.19.3-py3-none-any.whl (3.4 MB)\n\u001b[2K     \u001b[90m━━━━━━━━━━━━━━━━━━━━━━━━━━━━━━━━━━━━━━━━\u001b[0m \u001b[32m3.4/3.4 MB\u001b[0m \u001b[31m70.1 MB/s\u001b[0m eta \u001b[36m0:00:00\u001b[0m\n\u001b[?25hRequirement already satisfied: numpy in /shared-libs/python3.9/py/lib/python3.9/site-packages (from imageio) (1.22.4)\nRequirement already satisfied: pillow>=8.3.2 in /shared-libs/python3.9/py/lib/python3.9/site-packages (from imageio) (9.1.1)\nInstalling collected packages: imageio\nSuccessfully installed imageio-2.19.3\n\u001b[33mWARNING: You are using pip version 22.0.4; however, version 22.1.2 is available.\nYou should consider upgrading via the '/root/venv/bin/python -m pip install --upgrade pip' command.\u001b[0m\u001b[33m\n\u001b[0m",
     "output_type": "stream"
    }
   ]
  },
  {
   "cell_type": "code",
   "metadata": {
    "cell_id": "72fa578ae26b438da83b3e15b67ae8c7",
    "tags": [],
    "deepnote_to_be_reexecuted": false,
    "source_hash": "23887bee",
    "execution_start": 1657119699185,
    "execution_millis": 5,
    "deepnote_cell_type": "code",
    "deepnote_cell_height": 225
   },
   "source": "# definición de coordenadas\ntheta0 = np.pi/4 # angulo inicial en radianas\nw = sp.pi # frecuencia con valor pi\n\ndef theta(t) : return theta0*np.cos(t*w)\ndef x(t) : return np.sin(theta(t))\ndef y(t) : return -np.cos(theta(t))\n\n",
   "execution_count": 2,
   "outputs": []
  },
  {
   "cell_type": "code",
   "source": "tmax, dt = 10, .05 # llegar al 10 sumando .05\nt = np.arange(0, tmax, dt) # iniciando 0\nfilenames = []\n\ndef make_plot(i):\n    r = .5\n    n = int(i/dt)\n    fig = plt.figure(dpi = 72)\n    ax = fig.add_subplot(111)\n    ax.plot([0,x(i)], [0,y(i)], lw = 2, c='k')\n    c0 = Circle((0,0), r/2, fc = 'k', zorder = 10)\n    c1 = Circle((x(i), y(i)), r, fc = 'b', ec = 'b', zorder = 10)\n    ax.add_patch(c0) \n    ax.add_patch(c1)\n    ax.set_xlim(-1.1, 1.1)\n    ax.set_ylim(-1.1, 0)\n    ax.set_aspect('equal', adjustable = 'box')\n    plt.grind(True)\n    filenames.append('frames_img{:04d}.png'.format(n))\n    plt.savefig('frames_img{:04d}.png'.format(n))  ",
   "metadata": {
    "cell_id": "e5be6c39c849413db3b0dddce3617a64",
    "tags": [],
    "owner_user_id": "0f0daa70-4ecf-4d41-994f-2873c1521ab3",
    "deepnote_to_be_reexecuted": false,
    "source_hash": "5b48ffc7",
    "execution_start": 1657121436217,
    "execution_millis": 1,
    "deepnote_cell_type": "code",
    "deepnote_cell_height": 734
   },
   "outputs": [],
   "execution_count": 5
  },
  {
   "cell_type": "markdown",
   "source": "<a style='text-decoration:none;line-height:16px;display:flex;color:#5B5B62;padding:10px;justify-content:end;' href='https://deepnote.com?utm_source=created-in-deepnote-cell&projectId=9d46bb69-0dde-48c9-b8be-2e352869e427' target=\"_blank\">\n<img alt='Created in deepnote.com' style='display:inline;max-height:16px;margin:0px;margin-right:7.5px;' src='data:image/svg+xml;base64,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' > </img>\nCreated in <span style='font-weight:600;margin-left:4px;'>Deepnote</span></a>",
   "metadata": {
    "tags": [],
    "created_in_deepnote_cell": true,
    "deepnote_cell_type": "markdown"
   }
  }
 ],
 "nbformat": 4,
 "nbformat_minor": 2,
 "metadata": {
  "orig_nbformat": 2,
  "deepnote": {},
  "deepnote_notebook_id": "251efe17-5529-49d1-bdd7-efad9228cfd9",
  "deepnote_execution_queue": []
 }
}